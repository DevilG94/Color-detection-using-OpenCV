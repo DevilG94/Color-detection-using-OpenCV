{
 "cells": [
  {
   "cell_type": "code",
   "execution_count": 1,
   "id": "8d8c49d0-8f85-462c-aa80-0b4f7a488eb6",
   "metadata": {},
   "outputs": [],
   "source": [
    "import cv2\n",
    "import pandas as pd"
   ]
  },
  {
   "cell_type": "code",
   "execution_count": 2,
   "id": "94be4c09-1b4a-4dca-997b-75a22dd5b445",
   "metadata": {},
   "outputs": [],
   "source": [
    "img_path = 'colorpic.jpg'\n",
    "img = cv2.imread(img_path)"
   ]
  },
  {
   "cell_type": "markdown",
   "id": "15227dc5-7519-49c0-ab92-d10cd9942a5f",
   "metadata": {},
   "source": [
    "# Declaring global variables (are used later on);"
   ]
  },
  {
   "cell_type": "code",
   "execution_count": 3,
   "id": "68a25851-be1d-41d1-b7b7-033e5f7b30d0",
   "metadata": {},
   "outputs": [],
   "source": [
    "clicked = False\n",
    "r = g = b = x_pos = y_pos = 0"
   ]
  },
  {
   "cell_type": "markdown",
   "id": "5ae84842-f265-4499-8593-e5e2b435504f",
   "metadata": {},
   "source": [
    "# Reading csv file with pandas and giving names to each column;"
   ]
  },
  {
   "cell_type": "code",
   "execution_count": 4,
   "id": "17d074b3-1980-48f4-a8e4-d70d3bc16487",
   "metadata": {},
   "outputs": [],
   "source": [
    "index = [\"color\",\"color_name\",\"hex\",\"R\",\"G\",\"B\"]\n",
    "csv = pd.read_csv('colors.csv', names = index, header=None)"
   ]
  },
  {
   "cell_type": "markdown",
   "id": "1a6dee9c-4c65-4a24-9af2-a15ae61da2ba",
   "metadata": {},
   "source": [
    "# Function to calculate minimum distance from all colors and get the mostmatching color;"
   ]
  },
  {
   "cell_type": "code",
   "execution_count": 5,
   "id": "a6f456d8-151f-4f1f-9fa9-488a0278eaea",
   "metadata": {},
   "outputs": [],
   "source": [
    "def get_color_name(R,G,B):\n",
    "    minimum = 10000\n",
    "    for i in range(len(csv)):\n",
    "        d = abs( R - int(csv.loc[i,\"R\"])) + abs(G - int(csv.loc[i, \"G\"])) + abs(B - int(csv.loc[i, \"B\"]))\n",
    "        if d <= minimum:\n",
    "            minimum = d\n",
    "            cname = csv.loc[i, \"color_name\"]\n",
    "        return cname"
   ]
  },
  {
   "cell_type": "markdown",
   "id": "774e45b4-b204-4ae7-9833-74bcc728c12a",
   "metadata": {},
   "source": [
    "# Function to get x,y coordinates of mouse double click;"
   ]
  },
  {
   "cell_type": "code",
   "execution_count": 6,
   "id": "71975efa-bb19-4d9f-a7b8-9f3b67877de0",
   "metadata": {},
   "outputs": [],
   "source": [
    "def draw_function(event,x,y,flags,param):\n",
    "    if event == cv2.EVENT_LBUTTONDBLCLK:\n",
    "        print(\"Double-click detected at:\",x,y)\n",
    "        global b,g,r,x_pos,y_pos,clicked\n",
    "        clicked = True\n",
    "        x_pos = x\n",
    "        y_pos = y\n",
    "        b,g,r = img[y,x]\n",
    "        b = int(b)\n",
    "        g = int(g)\n",
    "        r = int(r)\n",
    "\n",
    "cv2.namedWindow('image')\n",
    "cv2.setMouseCallback('image',draw_function)"
   ]
  },
  {
   "cell_type": "code",
   "execution_count": null,
   "id": "18188da4-1c89-4b0e-aa09-814e97db1f02",
   "metadata": {},
   "outputs": [],
   "source": [
    "while True:\n",
    "    cv2.imshow(\"image\",img)\n",
    "\n",
    "    if clicked:\n",
    "      cv2.rectangle(img, (20, 20), (750, 60), (b , g, r) -1)\n",
    "      text = get_color_name(r, g, b) + 'R=' + str(r) + 'G=' + str(g) + 'B=' + str(b)\n",
    "      cv2.putText(img, text, (50,50), 2, 0.8, (255,255,255), 2, cv2.LINE_AA)\n",
    "\n",
    "    if r + g + b >= 600:\n",
    "          cv2.putText(img, text, (50,50), 2, 0.8, (0,0,0), 2, cv2.LINE_AA)\n",
    "    clicked = False\n",
    "\n",
    "    # Break the Loops whe hit 'esc' key;\n",
    "    if cv2.waitKey(20) & 0xFF == 27:\n",
    "      break\n",
    "\n",
    "cv2.destroyAllWimdows()"
   ]
  },
  {
   "cell_type": "code",
   "execution_count": null,
   "id": "7430fef5-d304-449d-99f2-e64a85a2a837",
   "metadata": {},
   "outputs": [],
   "source": []
  },
  {
   "cell_type": "code",
   "execution_count": null,
   "id": "389fb30e-09d1-4584-9383-54b3d687340c",
   "metadata": {},
   "outputs": [],
   "source": []
  }
 ],
 "metadata": {
  "kernelspec": {
   "display_name": "Python 3 (ipykernel)",
   "language": "python",
   "name": "python3"
  },
  "language_info": {
   "codemirror_mode": {
    "name": "ipython",
    "version": 3
   },
   "file_extension": ".py",
   "mimetype": "text/x-python",
   "name": "python",
   "nbconvert_exporter": "python",
   "pygments_lexer": "ipython3",
   "version": "3.12.5"
  }
 },
 "nbformat": 4,
 "nbformat_minor": 5
}
